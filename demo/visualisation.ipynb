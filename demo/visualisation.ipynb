{
 "cells": [
  {
   "cell_type": "code",
   "execution_count": null,
   "id": "incomplete-emission",
   "metadata": {},
   "outputs": [],
   "source": [
    "import os\n",
    "import json\n",
    "import pandas as pd\n",
    "import geopandas as gpd"
   ]
  },
  {
   "cell_type": "markdown",
   "id": "wound-wiring",
   "metadata": {},
   "source": [
    "# Load Data"
   ]
  },
  {
   "cell_type": "code",
   "execution_count": null,
   "id": "acknowledged-johnston",
   "metadata": {},
   "outputs": [],
   "source": [
    "DATA_DIR = '../data'\n",
    "DATA_PATH = os.path.join(DATA_DIR, 'Location History.json')"
   ]
  },
  {
   "cell_type": "code",
   "execution_count": null,
   "id": "excellent-coalition",
   "metadata": {},
   "outputs": [],
   "source": [
    "def load_location_data_as_dataframe(data_path: str):\n",
    "    with open(data_path) as json_file:\n",
    "        json_data = json.load(json_file)\n",
    "    return pd.json_normalize(json_data, 'locations')"
   ]
  },
  {
   "cell_type": "code",
   "execution_count": null,
   "id": "graphic-asbestos",
   "metadata": {},
   "outputs": [],
   "source": [
    "df = load_location_data_as_dataframe(DATA_PATH)"
   ]
  },
  {
   "cell_type": "markdown",
   "id": "processed-toolbox",
   "metadata": {},
   "source": [
    "### Helper Functions"
   ]
  },
  {
   "cell_type": "code",
   "execution_count": null,
   "id": "arranged-apple",
   "metadata": {},
   "outputs": [],
   "source": [
    "def create_geodataframe(df: pd.DataFrame):\n",
    "    df['lat'] = df['latitudeE7'] / 1e7\n",
    "    df['lon'] = df['longitudeE7'] / 1e7    \n",
    "    return gpd.GeoDataFrame(df, geometry=gpd.points_from_xy(df.lon, df.lat))\n",
    "\n",
    "def clean_geodataframe(gdf: gpd.GeoDataFrame):\n",
    "    gdf['ts'] = pd.to_datetime(gdf['timestampMs'], unit='ms')\n",
    "    _gdf = gdf.drop(columns=['timestampMs', 'latitudeE7', 'longitudeE7', 'source', 'deviceTag', 'activity', 'verticalAccuracy', 'platform', 'platformType', 'locationMetadata', 'velocity', 'heading', 'lat', 'lon'])    \n",
    "    return _gdf\n",
    "\n",
    "def save_geodataframe_as_geojson(gdf: gpd.GeoDataFrame, out_path: str):\n",
    "    gdf.to_file(out_path, driver='GeoJSON')\n",
    "\n",
    "def plot_locations(gdf: gpd.GeoDataFrame, country : str=None):\n",
    "    world = gpd.read_file(gpd.datasets.get_path('naturalearth_lowres'))\n",
    "\n",
    "    if country:\n",
    "        ax = world[world.name == country].plot(\n",
    "            color='white', edgecolor='black')\n",
    "    else:\n",
    "        ax = world.plot(\n",
    "            color='white', edgecolor='black')        \n",
    "    gdf.plot(ax=ax, color='red');"
   ]
  },
  {
   "cell_type": "markdown",
   "id": "moderate-agreement",
   "metadata": {},
   "source": [
    "# Process Data"
   ]
  },
  {
   "cell_type": "code",
   "execution_count": null,
   "id": "cutting-lithuania",
   "metadata": {},
   "outputs": [],
   "source": [
    "df = load_location_data_as_dataframe(DATA_PATH)"
   ]
  },
  {
   "cell_type": "code",
   "execution_count": null,
   "id": "fifteen-luxury",
   "metadata": {},
   "outputs": [],
   "source": [
    "gdf = create_geodataframe(df)"
   ]
  },
  {
   "cell_type": "code",
   "execution_count": null,
   "id": "geographic-copyright",
   "metadata": {},
   "outputs": [],
   "source": [
    "plot_locations(gdf)"
   ]
  },
  {
   "cell_type": "code",
   "execution_count": null,
   "id": "outdoor-vehicle",
   "metadata": {},
   "outputs": [],
   "source": [
    "_gdf = clean_geodataframe(gdf)"
   ]
  },
  {
   "cell_type": "code",
   "execution_count": null,
   "id": "paperback-device",
   "metadata": {
    "scrolled": true
   },
   "outputs": [],
   "source": [
    "out_path = os.path.join(DATA_DIR, 'location_history.geojson')\n",
    "save_geodataframe_as_geojson(_gdf, out_path)"
   ]
  }
 ],
 "metadata": {
  "kernelspec": {
   "display_name": "traffic",
   "language": "python",
   "name": "traffic"
  },
  "language_info": {
   "codemirror_mode": {
    "name": "ipython",
    "version": 3
   },
   "file_extension": ".py",
   "mimetype": "text/x-python",
   "name": "python",
   "nbconvert_exporter": "python",
   "pygments_lexer": "ipython3",
   "version": "3.8.8"
  }
 },
 "nbformat": 4,
 "nbformat_minor": 5
}
